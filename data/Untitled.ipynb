{
 "cells": [
  {
   "cell_type": "code",
   "execution_count": 50,
   "metadata": {},
   "outputs": [
    {
     "name": "stdout",
     "output_type": "stream",
     "text": [
      "['Country', 'schools_universities', 'travel_restrictions', 'public_events', 'sport', 'lockdown', 'social_distancing_encouraged', 'self_isolating_if_ill', 'Unnamed: 8', 'Data inputted by', 'note: enter the date on which the closing occurred, e.g. as the last day of UK schools will be 2020-03-20, I entered 2020-03-21', 'comments', 'Enter your github username below', 'Unnamed: 13', 'Unnamed: 14', 'Unnamed: 15', 'Unnamed: 16', 'Unnamed: 17', 'Unnamed: 18', 'Unnamed: 19', 'Unnamed: 20', 'startdate']\n",
      "           Country school/uni closures self-isolating if ill  \\\n",
      "0          Austria          2020-03-14            2020-03-16   \n",
      "1          Belgium          2020-03-14            2020-03-10   \n",
      "2          Denmark          2020-03-13            2020-03-12   \n",
      "3           France          2020-03-14            2020-03-16   \n",
      "4          Germany          2020-03-14            2020-03-06   \n",
      "5            Italy          2020-03-05            2020-03-09   \n",
      "6           Norway          2020-03-13            2020-03-15   \n",
      "7            Spain          2020-03-13            2020-03-17   \n",
      "8           Sweden           2020-3-18            2020-03-10   \n",
      "9      Switzerland          2020-03-14            2020-03-02   \n",
      "10  United_Kingdom          2020-03-21            2020-03-12   \n",
      "\n",
      "   bannig public events any government intervention complete/partial lockdown  \\\n",
      "0                   NaN                         NaN                2020-03-16   \n",
      "1                   NaN                         NaN                2020-03-18   \n",
      "2                   NaN                         NaN                2020-03-18   \n",
      "3                   NaN                         NaN                2020-03-17   \n",
      "4                   NaN                         NaN                2020-03-22   \n",
      "5                   NaN                         NaN                2020-03-11   \n",
      "6                   NaN                         NaN                2020-03-24   \n",
      "7                   NaN                         NaN                2020-03-14   \n",
      "8                   NaN                         NaN                2090-03-21   \n",
      "9                   NaN                         NaN                2020-03-20   \n",
      "10                  NaN                         NaN                2020-03-24   \n",
      "\n",
      "   social distancing/isolation banning public events  \n",
      "0                   2020-03-16            2020-03-10  \n",
      "1                   2020-03-14            2020-03-12  \n",
      "2                   2020-03-13            2020-03-12  \n",
      "3                   2020-03-16            2020-03-13  \n",
      "4                   2020-03-12            2020-03-22  \n",
      "5                   2020-03-09            2020-03-09  \n",
      "6                   2020-03-16            2020-03-12  \n",
      "7                   2020-03-09            2020-03-14  \n",
      "8                   2020-03-16            2020-03-12  \n",
      "9                   2020-03-16            2020-03-13  \n",
      "10                  2020-03-16            2020-03-24  \n"
     ]
    }
   ],
   "source": [
    "import numpy as np\n",
    "import pandas as pd\n",
    "\n",
    "interventions = pd.read_csv('interventions.csv')\n",
    "weighted_fatality = pd.read_csv('weighted_fatality.csv')\n",
    "print(interventions.columns.tolist())\n",
    "\n",
    "mod_interventions = pd.DataFrame(columns = ['Country','school/uni closures','self-isolating if ill',\n",
    "                                  'bannig public events','any government intervention',\n",
    "                                  'complete/partial lockdown','social distancing/isolation'])\n",
    "interventions.loc[15:44]['schools_universities']\n",
    "mod_interventions['Country'] = interventions.iloc[0:11]['Country']\n",
    "mod_interventions['school/uni closures'] = interventions.iloc[0:11]['schools_universities']\n",
    "mod_interventions['self-isolating if ill'] = interventions.iloc[0:11]['self_isolating_if_ill']\n",
    "mod_interventions['banning public events'] = interventions.iloc[0:11]['public_events']\n",
    "mod_interventions['social distancing/isolation'] = interventions.iloc[0:11]['social_distancing_encouraged']\n",
    "mod_interventions['complete/partial lockdown'] = interventions.iloc[0:11]['lockdown']\n",
    "\n",
    "print(mod_interventions)\n",
    "#mod_interventions['school/uni closures'] = interventions['schools_universities'].loc[interventions.iloc[0:12]['Country']==mod_interventions['Country']]\n",
    "#print(mod_interventions['school/uni closures'])\n",
    "#print(mod_interventions)\n",
    "#print(interventions.columns.tolist())"
   ]
  },
  {
   "cell_type": "code",
   "execution_count": 49,
   "metadata": {},
   "outputs": [
    {
     "name": "stdout",
     "output_type": "stream",
     "text": [
      "countriesAndTerritories\n",
      "Austria        [31/12/2019, 01/01/2020, 02/01/2020, 03/01/202...\n",
      "Belgium        [31/12/2019, 01/01/2020, 02/01/2020, 03/01/202...\n",
      "Denmark        [31/12/2019, 01/01/2020, 02/01/2020, 03/01/202...\n",
      "France         [31/12/2019, 01/01/2020, 02/01/2020, 03/01/202...\n",
      "Germany        [31/12/2019, 01/01/2020, 02/01/2020, 03/01/202...\n",
      "Italy          [31/12/2019, 01/01/2020, 02/01/2020, 03/01/202...\n",
      "Norway         [31/12/2019, 01/01/2020, 02/01/2020, 03/01/202...\n",
      "Spain          [31/12/2019, 01/01/2020, 02/01/2020, 03/01/202...\n",
      "Sweden         [31/12/2019, 01/01/2020, 02/01/2020, 03/01/202...\n",
      "Switzerland    [31/12/2019, 01/01/2020, 02/01/2020, 03/01/202...\n",
      "Name: dateRep, dtype: object\n"
     ]
    }
   ],
   "source": [
    "from datetime import datetime\n",
    "\n",
    "covid_up_to_date = pd.read_csv(r'COVID-19-up-to-date.csv', encoding='latin-1')\n",
    "covid_up_to_date = covid_up_to_date.loc[covid_up_to_date['countriesAndTerritories'].isin(countries)]\n",
    "dates = covid_up_to_date.groupby('countriesAndTerritories')['dateRep'].apply(list)\n",
    "countries = dates.index\n",
    "#print(countries)\n",
    "for country in countries:\n",
    "    dates[country].sort(key = lambda date: datetime.strptime(date, '%d/%m/%Y'))\n",
    "start_dates = pd.DataFrame(columns = country + ['start_date'])\n",
    "start_dates['start_date'] = dates[country]\n",
    "#conv_to_date = [datetime.strptime(x, '%d/%m/%Y') for x in time_series[0]]\n",
    "dates[0].sort(key = lambda date: datetime.strptime(date, '%d/%m/%Y'))\n",
    "case_time_series = pd.DataFrame(columns = ['Country'] + time_series[0])\n",
    "death_time_series = pd.DataFrame(columns = ['Country'] + time_series[0])\n",
    "case_time_series['Country'] = countries\n",
    "death_time_series['Country'] = countries\n",
    "\n",
    "for day in dates[0]:\n",
    "    case_time_series[day] = covid_up_to_date.loc[covid_up_to_date['dateRep']==day]['cases']\n",
    "#print(case_time_series)"
   ]
  },
  {
   "cell_type": "code",
   "execution_count": null,
   "metadata": {},
   "outputs": [],
   "source": []
  }
 ],
 "metadata": {
  "kernelspec": {
   "display_name": "Python 3",
   "language": "python",
   "name": "python3"
  },
  "language_info": {
   "codemirror_mode": {
    "name": "ipython",
    "version": 3
   },
   "file_extension": ".py",
   "mimetype": "text/x-python",
   "name": "python",
   "nbconvert_exporter": "python",
   "pygments_lexer": "ipython3",
   "version": "3.7.6"
  }
 },
 "nbformat": 4,
 "nbformat_minor": 4
}
